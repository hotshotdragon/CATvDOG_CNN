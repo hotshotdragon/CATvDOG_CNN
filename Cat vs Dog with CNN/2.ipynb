{
 "cells": [
  {
   "cell_type": "code",
   "execution_count": null,
   "metadata": {},
   "outputs": [
    {
     "name": "stdout",
     "output_type": "stream",
     "text": [
      "Epoch 1/10\n",
      "702/702 [==============================] - 181s 257ms/step - loss: 0.6302 - accuracy: 0.6409 - val_loss: 0.5535 - val_accuracy: 0.7275\n",
      "Epoch 2/10\n",
      "702/702 [==============================] - 179s 254ms/step - loss: 0.5221 - accuracy: 0.7437 - val_loss: 0.5242 - val_accuracy: 0.7567\n",
      "Epoch 3/10\n",
      "702/702 [==============================] - 173s 246ms/step - loss: 0.4735 - accuracy: 0.7746 - val_loss: 0.5072 - val_accuracy: 0.7539\n",
      "Epoch 4/10\n",
      "702/702 [==============================] - 182s 259ms/step - loss: 0.4350 - accuracy: 0.7997 - val_loss: 0.4618 - val_accuracy: 0.7860\n",
      "Epoch 5/10\n",
      "702/702 [==============================] - 149s 213ms/step - loss: 0.4149 - accuracy: 0.8081 - val_loss: 0.4659 - val_accuracy: 0.7808\n",
      "Epoch 6/10\n",
      "702/702 [==============================] - 149s 212ms/step - loss: 0.3922 - accuracy: 0.8221 - val_loss: 0.4583 - val_accuracy: 0.7940\n",
      "Epoch 7/10\n",
      "702/702 [==============================] - 148s 210ms/step - loss: 0.3723 - accuracy: 0.8336 - val_loss: 0.4845 - val_accuracy: 0.7884\n",
      "Epoch 8/10\n",
      "702/702 [==============================] - 149s 212ms/step - loss: 0.3541 - accuracy: 0.8429 - val_loss: 0.4714 - val_accuracy: 0.7976\n",
      "Epoch 9/10\n",
      "702/702 [==============================] - 150s 213ms/step - loss: 0.3332 - accuracy: 0.8529 - val_loss: 0.4953 - val_accuracy: 0.7840\n",
      "Epoch 10/10\n",
      "567/702 [=======================>......] - ETA: 27s - loss: 0.3138 - accuracy: 0.8629"
     ]
    }
   ],
   "source": [
    "import tensorflow as tf\n",
    "import numpy as np\n",
    "from tensorflow.keras.models import Sequential\n",
    "from tensorflow.keras.layers import Dense, Activation, Flatten, Conv2D, MaxPooling2D\n",
    "import pickle\n",
    "\n",
    "X = pickle.load(open('X.pickle','rb'))\n",
    "y = pickle.load(open('y.pickle','rb'))\n",
    "\n",
    "X=np.array(X/255.0)\n",
    "y=np.array(y)\n",
    "\n",
    "model = Sequential()\n",
    "model.add(Conv2D(64, (3,3), input_shape = X.shape[1:]))\n",
    "model.add(Activation('relu'))\n",
    "model.add(MaxPooling2D(pool_size = (2,2)))\n",
    "\n",
    "model.add(Conv2D(64, (3,3)))\n",
    "model.add(Activation('relu'))\n",
    "model.add(MaxPooling2D(pool_size = (2,2)))\n",
    "\n",
    "model.add(Flatten())\n",
    "model.add(Dense(64))\n",
    "\n",
    "model.add(Dense(1))\n",
    "model.add(Activation('sigmoid'))\n",
    "\n",
    "model.compile(loss = 'binary_crossentropy',\n",
    "             optimizer='adam',\n",
    "             metrics = ['accuracy'])\n",
    "model.fit(X,y,batch_size = 32,epochs = 10, validation_split = 0.1)"
   ]
  },
  {
   "cell_type": "code",
   "execution_count": null,
   "metadata": {},
   "outputs": [],
   "source": []
  }
 ],
 "metadata": {
  "kernelspec": {
   "display_name": "Python 3",
   "language": "python",
   "name": "python3"
  },
  "language_info": {
   "codemirror_mode": {
    "name": "ipython",
    "version": 3
   },
   "file_extension": ".py",
   "mimetype": "text/x-python",
   "name": "python",
   "nbconvert_exporter": "python",
   "pygments_lexer": "ipython3",
   "version": "3.7.3"
  }
 },
 "nbformat": 4,
 "nbformat_minor": 2
}
