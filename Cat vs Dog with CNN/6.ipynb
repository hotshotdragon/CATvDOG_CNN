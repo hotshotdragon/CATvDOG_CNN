{
 "cells": [
  {
   "cell_type": "code",
   "execution_count": 1,
   "metadata": {},
   "outputs": [
    {
     "name": "stdout",
     "output_type": "stream",
     "text": [
      "3-conv-64-nodes-0-dense1594456888\n",
      "Epoch 1/10\n",
      "546/546 [==============================] - 129s 236ms/step - loss: 0.6504 - accuracy: 0.6128 - val_loss: 0.5891 - val_accuracy: 0.7024\n",
      "Epoch 2/10\n",
      "546/546 [==============================] - 136s 249ms/step - loss: 0.5582 - accuracy: 0.7146 - val_loss: 0.5226 - val_accuracy: 0.7500\n",
      "Epoch 3/10\n",
      "546/546 [==============================] - 136s 250ms/step - loss: 0.5001 - accuracy: 0.7548 - val_loss: 0.4920 - val_accuracy: 0.7654\n",
      "Epoch 4/10\n",
      "546/546 [==============================] - 140s 257ms/step - loss: 0.4683 - accuracy: 0.7741 - val_loss: 0.4971 - val_accuracy: 0.7678\n",
      "Epoch 5/10\n",
      "546/546 [==============================] - 138s 254ms/step - loss: 0.4335 - accuracy: 0.7964 - val_loss: 0.4696 - val_accuracy: 0.7833\n",
      "Epoch 6/10\n",
      "546/546 [==============================] - 141s 258ms/step - loss: 0.4072 - accuracy: 0.8124 - val_loss: 0.4496 - val_accuracy: 0.7857\n",
      "Epoch 7/10\n",
      "546/546 [==============================] - 129s 237ms/step - loss: 0.3862 - accuracy: 0.8247 - val_loss: 0.4308 - val_accuracy: 0.8025\n",
      "Epoch 8/10\n",
      "546/546 [==============================] - 135s 247ms/step - loss: 0.3604 - accuracy: 0.8381 - val_loss: 0.4454 - val_accuracy: 0.7966\n",
      "Epoch 9/10\n",
      "546/546 [==============================] - 130s 239ms/step - loss: 0.3365 - accuracy: 0.8503 - val_loss: 0.4535 - val_accuracy: 0.8056\n",
      "Epoch 10/10\n",
      "546/546 [==============================] - 134s 246ms/step - loss: 0.3119 - accuracy: 0.8641 - val_loss: 0.4824 - val_accuracy: 0.7807\n",
      "WARNING:tensorflow:From E:\\Softwares\\Anaconda\\lib\\site-packages\\tensorflow\\python\\ops\\resource_variable_ops.py:1817: calling BaseResourceVariable.__init__ (from tensorflow.python.ops.resource_variable_ops) with constraint is deprecated and will be removed in a future version.\n",
      "Instructions for updating:\n",
      "If using Keras pass *_constraint arguments to layers.\n",
      "INFO:tensorflow:Assets written to: 64x3-CNN.model\\assets\n"
     ]
    }
   ],
   "source": [
    "import tensorflow as tf\n",
    "import numpy as np\n",
    "from tensorflow.keras.datasets import cifar10\n",
    "from tensorflow.keras.preprocessing.image import ImageDataGenerator\n",
    "from tensorflow.keras.models import Sequential\n",
    "from tensorflow.keras.layers import Dense,Dropout, Activation, Flatten, Conv2D, MaxPooling2D\n",
    "from tensorflow.keras.callbacks import TensorBoard\n",
    "import pickle\n",
    "import time \n",
    "\n",
    "#NAME = 'Cats-vs-dog-cnn-64x2-{}'.format(int(time.time()))\n",
    "\n",
    "\n",
    "X = pickle.load(open('X.pickle','rb'))\n",
    "y = pickle.load(open('y.pickle','rb'))\n",
    "\n",
    "X=np.array(X/255.0)\n",
    "y=np.array(y)\n",
    "\n",
    "dense_layers = [0]\n",
    "layer_sizes = [64]\n",
    "conv_layers = [3]\n",
    "\n",
    "for dense_layer in dense_layers:\n",
    "    for layer_size in layer_sizes:\n",
    "        for conv_layer in conv_layers:\n",
    "            NAME = \"{}-conv-{}-nodes-{}-dense{}\".format(conv_layer,layer_size,dense_layer,int(time.time()))\n",
    "            print(NAME)\n",
    "            model = Sequential()\n",
    "            model.add(Conv2D(layer_size, (3,3), input_shape = X.shape[1:]))\n",
    "            model.add(Activation('relu'))\n",
    "            model.add(MaxPooling2D(pool_size = (2,2)))\n",
    "\n",
    "            for l in range(conv_layer-1):\n",
    "                model.add(Conv2D(layer_size, (3,3)))\n",
    "                model.add(Activation('relu'))\n",
    "                model.add(MaxPooling2D(pool_size = (2,2)))\n",
    "\n",
    "            model.add(Flatten()) #this converts 3D feature maps to 1D feature vectors\n",
    "            for l in range(dense_layer):\n",
    "                model.add(Dense(layer_size))\n",
    "                model.add(Activation('relu'))\n",
    "            \n",
    "            model.add(Dense(1))\n",
    "            model.add(Activation('sigmoid'))\n",
    "            \n",
    "            tensorboard = TensorBoard(log_dir = 'logs/{}'.format(NAME))\n",
    "\n",
    "            model.compile(loss = 'binary_crossentropy',\n",
    "                         optimizer='adam',\n",
    "                         metrics = ['accuracy'])\n",
    "            model.fit(X,y,batch_size = 32,epochs = 10, validation_split = 0.3,callbacks=[tensorboard])\n",
    "\n",
    "model.save('64x3-CNN.model')"
   ]
  },
  {
   "cell_type": "code",
   "execution_count": null,
   "metadata": {},
   "outputs": [],
   "source": []
  }
 ],
 "metadata": {
  "kernelspec": {
   "display_name": "Python 3",
   "language": "python",
   "name": "python3"
  },
  "language_info": {
   "codemirror_mode": {
    "name": "ipython",
    "version": 3
   },
   "file_extension": ".py",
   "mimetype": "text/x-python",
   "name": "python",
   "nbconvert_exporter": "python",
   "pygments_lexer": "ipython3",
   "version": "3.7.3"
  }
 },
 "nbformat": 4,
 "nbformat_minor": 2
}
