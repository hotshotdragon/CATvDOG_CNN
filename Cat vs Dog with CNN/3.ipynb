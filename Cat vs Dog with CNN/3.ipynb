{
 "cells": [
  {
   "cell_type": "code",
   "execution_count": 8,
   "metadata": {},
   "outputs": [
    {
     "name": "stdout",
     "output_type": "stream",
     "text": [
      "Epoch 1/20\n",
      "702/702 [==============================] - 150s 214ms/step - loss: 0.6088 - accuracy: 0.6618 - val_loss: 0.5614 - val_accuracy: 0.7146\n",
      "Epoch 2/20\n",
      "702/702 [==============================] - 175s 249ms/step - loss: 0.5162 - accuracy: 0.7469 - val_loss: 0.5084 - val_accuracy: 0.7603\n",
      "Epoch 3/20\n",
      "702/702 [==============================] - 158s 225ms/step - loss: 0.4855 - accuracy: 0.7669 - val_loss: 0.5347 - val_accuracy: 0.7443\n",
      "Epoch 4/20\n",
      "702/702 [==============================] - 156s 222ms/step - loss: 0.4618 - accuracy: 0.7841 - val_loss: 0.4809 - val_accuracy: 0.7739\n",
      "Epoch 5/20\n",
      "702/702 [==============================] - 159s 227ms/step - loss: 0.4386 - accuracy: 0.7989 - val_loss: 0.4754 - val_accuracy: 0.7868\n",
      "Epoch 6/20\n",
      "702/702 [==============================] - 164s 234ms/step - loss: 0.4198 - accuracy: 0.8109 - val_loss: 0.4768 - val_accuracy: 0.7832\n",
      "Epoch 7/20\n",
      "702/702 [==============================] - 159s 226ms/step - loss: 0.3997 - accuracy: 0.8203 - val_loss: 0.4528 - val_accuracy: 0.7960\n",
      "Epoch 8/20\n",
      "702/702 [==============================] - 196s 279ms/step - loss: 0.3859 - accuracy: 0.8272 - val_loss: 0.4541 - val_accuracy: 0.8000\n",
      "Epoch 9/20\n",
      "702/702 [==============================] - 190s 270ms/step - loss: 0.3667 - accuracy: 0.8377 - val_loss: 0.4630 - val_accuracy: 0.7984\n",
      "Epoch 10/20\n",
      "702/702 [==============================] - 162s 231ms/step - loss: 0.3551 - accuracy: 0.8440 - val_loss: 0.4498 - val_accuracy: 0.8024\n",
      "Epoch 11/20\n",
      "702/702 [==============================] - 154s 220ms/step - loss: 0.3417 - accuracy: 0.8493 - val_loss: 0.4617 - val_accuracy: 0.7968\n",
      "Epoch 12/20\n",
      "702/702 [==============================] - 152s 216ms/step - loss: 0.3306 - accuracy: 0.8565 - val_loss: 0.4580 - val_accuracy: 0.7964\n",
      "Epoch 13/20\n",
      "702/702 [==============================] - 151s 215ms/step - loss: 0.3131 - accuracy: 0.8668 - val_loss: 0.4567 - val_accuracy: 0.8052\n",
      "Epoch 14/20\n",
      "702/702 [==============================] - 150s 214ms/step - loss: 0.2962 - accuracy: 0.8739 - val_loss: 0.4681 - val_accuracy: 0.8048\n",
      "Epoch 15/20\n",
      "702/702 [==============================] - 153s 217ms/step - loss: 0.2840 - accuracy: 0.8791 - val_loss: 0.4660 - val_accuracy: 0.7984\n",
      "Epoch 16/20\n",
      "702/702 [==============================] - 149s 213ms/step - loss: 0.2707 - accuracy: 0.8837 - val_loss: 0.4681 - val_accuracy: 0.8072\n",
      "Epoch 17/20\n",
      "702/702 [==============================] - 151s 215ms/step - loss: 0.2597 - accuracy: 0.8895 - val_loss: 0.4758 - val_accuracy: 0.8056\n",
      "Epoch 18/20\n",
      "702/702 [==============================] - 151s 214ms/step - loss: 0.2454 - accuracy: 0.8984 - val_loss: 0.4915 - val_accuracy: 0.8040\n",
      "Epoch 19/20\n",
      "702/702 [==============================] - 152s 216ms/step - loss: 0.2369 - accuracy: 0.9017 - val_loss: 0.5031 - val_accuracy: 0.8052\n",
      "Epoch 20/20\n",
      "702/702 [==============================] - 152s 217ms/step - loss: 0.2266 - accuracy: 0.9060 - val_loss: 0.5151 - val_accuracy: 0.7940\n"
     ]
    },
    {
     "data": {
      "text/plain": [
       "<tensorflow.python.keras.callbacks.History at 0x2906b48b438>"
      ]
     },
     "execution_count": 8,
     "metadata": {},
     "output_type": "execute_result"
    }
   ],
   "source": [
    "import tensorflow as tf\n",
    "import numpy as np\n",
    "from tensorflow.keras.datasets import cifar10\n",
    "from tensorflow.keras.preprocessing.image import ImageDataGenerator\n",
    "from tensorflow.keras.models import Sequential\n",
    "from tensorflow.keras.layers import Dense,Dropout, Activation, Flatten, Conv2D, MaxPooling2D\n",
    "from tensorflow.keras.callbacks import TensorBoard\n",
    "import pickle\n",
    "import time\n",
    "\n",
    "NAME = 'Cats-vs-dog-cnn-64x2-{}'.format(int(time.time()))\n",
    "tensorboard = TensorBoard(log_dir = 'logs/{}'.format(NAME))\n",
    "\n",
    "X = pickle.load(open('X.pickle','rb'))\n",
    "y = pickle.load(open('y.pickle','rb'))\n",
    "\n",
    "X=np.array(X/255.0)\n",
    "y=np.array(y)\n",
    "\n",
    "model = Sequential()\n",
    "model.add(Conv2D(64, (3,3), input_shape = X.shape[1:]))\n",
    "model.add(Activation('relu'))\n",
    "model.add(MaxPooling2D(pool_size = (2,2)))\n",
    "\n",
    "model.add(Conv2D(64, (3,3)))\n",
    "model.add(Activation('relu'))\n",
    "model.add(MaxPooling2D(pool_size = (2,2)))\n",
    "\n",
    "model.add(Flatten()) #this converts 3D feature maps to 1D feature vectors\n",
    "\n",
    "#model.add(Dense(64))\n",
    "#model.add(Activation('relu'))\n",
    "\n",
    "model.add(Dense(1))\n",
    "model.add(Activation('sigmoid'))\n",
    "\n",
    "model.compile(loss = 'binary_crossentropy',\n",
    "             optimizer='adam',\n",
    "             metrics = ['accuracy'])\n",
    "model.fit(X,y,batch_size = 32,epochs = 20, validation_split = 0.1,callbacks=[tensorboard])"
   ]
  },
  {
   "cell_type": "code",
   "execution_count": 9,
   "metadata": {},
   "outputs": [
    {
     "name": "stdout",
     "output_type": "stream",
     "text": [
      "WARNING:tensorflow:From E:\\Softwares\\Anaconda\\lib\\site-packages\\tensorflow\\python\\ops\\resource_variable_ops.py:1817: calling BaseResourceVariable.__init__ (from tensorflow.python.ops.resource_variable_ops) with constraint is deprecated and will be removed in a future version.\n",
      "Instructions for updating:\n",
      "If using Keras pass *_constraint arguments to layers.\n",
      "INFO:tensorflow:Assets written to: cat_dog_classifier_1\\assets\n"
     ]
    }
   ],
   "source": [
    "model.save('cat_dog_classifier_1')"
   ]
  },
  {
   "cell_type": "code",
   "execution_count": null,
   "metadata": {},
   "outputs": [],
   "source": []
  }
 ],
 "metadata": {
  "kernelspec": {
   "display_name": "Python 3",
   "language": "python",
   "name": "python3"
  },
  "language_info": {
   "codemirror_mode": {
    "name": "ipython",
    "version": 3
   },
   "file_extension": ".py",
   "mimetype": "text/x-python",
   "name": "python",
   "nbconvert_exporter": "python",
   "pygments_lexer": "ipython3",
   "version": "3.7.3"
  }
 },
 "nbformat": 4,
 "nbformat_minor": 2
}
